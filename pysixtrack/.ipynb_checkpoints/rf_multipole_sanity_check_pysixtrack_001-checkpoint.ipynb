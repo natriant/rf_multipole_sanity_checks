{
 "cells": [
  {
   "cell_type": "markdown",
   "metadata": {},
   "source": [
    "### Sanity check of the RF multipole module of pysixtrack, used as CC.\n",
    "\n",
    "To represent the CC with the RFMultipole we implement it as as skew dipole (skew for a vertical CC).\n",
    "\n",
    "Code of the RFMultipole in Pysixtrack : https://github.com/SixTrack/pysixtrack/blob/master/pysixtrack/elements.py \n",
    "\n",
    "Therefore the vertical kick on the transverse plane from a skew dipole is :\n",
    "\n",
    "\\begin{equation}\n",
    "\\Delta p_y = cs \\cdot ksl,\n",
    "\\end{equation}\n",
    "where\n",
    "\n",
    "- $cs = \\cos(ps*\\pi/180 - k \\cdot \\tau )$ with ps the phase of the cavity.\n",
    "- $k = 2 \\pi f_{CC}/c$ , the cavity wavenumber. $f_{CC}$ the frequency of the cavity in Hz\n",
    "- $\\tau$ = zeta/ rvv / $\\beta_0$\n",
    "- rvv = $\\beta / \\beta_0$ , where $\\beta$ the relativistic beta of the particle and $\\beta_0$ the relativistic beta of the reference particle\n",
    "- zeta = simga/rvv in [m]\n",
    "\n",
    "and $ksl = V_{CC}/PC_0$, where $V_{CC}$ the voltage of the CC in [V] and $PC_0$ the reference momentum in [eV]"
   ]
  },
  {
   "cell_type": "code",
   "execution_count": null,
   "metadata": {},
   "outputs": [],
   "source": []
  }
 ],
 "metadata": {
  "kernelspec": {
   "display_name": "Python 3",
   "language": "python",
   "name": "python3"
  },
  "language_info": {
   "codemirror_mode": {
    "name": "ipython",
    "version": 3
   },
   "file_extension": ".py",
   "mimetype": "text/x-python",
   "name": "python",
   "nbconvert_exporter": "python",
   "pygments_lexer": "ipython3",
   "version": "3.7.1"
  }
 },
 "nbformat": 4,
 "nbformat_minor": 4
}
