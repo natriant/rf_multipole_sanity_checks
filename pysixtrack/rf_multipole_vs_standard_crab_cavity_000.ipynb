{
 "cells": [
  {
   "cell_type": "markdown",
   "metadata": {},
   "source": [
    "### RFMulitpole vs standard CC.\n",
    "\n",
    "The induced closed orbit from an RFMultipole used as CC and the standard CC is comapred.\n",
    "\n",
    "To represent the CC with the RFMultipole we implement it as as skew dipole (skew for a vertical CC).\n",
    "\n",
    "Code of the RFMultipole in Pysixtrack : https://github.com/SixTrack/pysixtrack/blob/master/pysixtrack/elements.py \n",
    "\n",
    "Therefore the vertical kick on the transverse plane from a skew dipole is :\n",
    "\n",
    "\\begin{equation}\n",
    "\\Delta p_y = cs \\cdot ksl,\n",
    "\\end{equation}\n",
    "where\n",
    "\n",
    "- $cs = \\cos(ps*\\pi/180 - k \\cdot \\tau )$ with ps the phase of the cavity.\n",
    "- $k = 2 \\pi f_{CC}/c$ , the cavity wavenumber. $f_{CC}$ the frequency of the cavity in Hz\n",
    "- $\\tau$ = zeta/ rvv / $\\beta_0$\n",
    "- rvv = $\\beta / \\beta_0$ , where $\\beta$ the relativistic beta of the particle and $\\beta_0$ the relativistic beta of the reference particle\n",
    "- zeta = simga/rvv in [m]\n",
    "\n",
    "and $ksl = V_{CC}/PC_0$, where $V_{CC}$ the voltage of the CC in [V] and $PC_0$ the reference momentum in [eV]\n",
    "\n",
    "The vertical kick from the standard Crab Cavity \n",
    "\n",
    "\\begin{equation}\n",
    "\\Delta p_y = \\frac{V_{CC}}{Ε_0} \\sin(\\phi_s + k z), \n",
    "\\end{equation}\n",
    "where $V_{CC}$ the CC voltage in [V], E_0 the beam energy in [eV], $\\phi_s$ the phase of the CC, k the wavenumber and z the longitudinal coordinate.\n"
   ]
  },
  {
   "cell_type": "code",
   "execution_count": 10,
   "metadata": {},
   "outputs": [],
   "source": [
    "import numpy as np\n",
    "from math import *\n",
    "import matplotlib.pyplot as plt"
   ]
  },
  {
   "cell_type": "code",
   "execution_count": 11,
   "metadata": {},
   "outputs": [],
   "source": [
    "# Plotting parameters\n",
    "params = {'legend.fontsize': 25,\n",
    "          'figure.figsize': (12.5, 10.5),\n",
    "          'axes.labelsize': 25,\n",
    "          'axes.titlesize': 25,\n",
    "          'xtick.labelsize': 25,\n",
    "          'ytick.labelsize': 25,\n",
    "          'image.cmap': 'jet',\n",
    "          'lines.linewidth': 1,\n",
    "          'lines.markersize': 8,\n",
    "          'font.family': 'sans-serif'}\n",
    "\n",
    "plt.rc('text', usetex=False)\n",
    "plt.rc('font', family='serif')\n",
    "plt.rcParams.update(params)"
   ]
  },
  {
   "cell_type": "markdown",
   "metadata": {},
   "source": [
    "#### Constants"
   ]
  },
  {
   "cell_type": "code",
   "execution_count": 12,
   "metadata": {},
   "outputs": [],
   "source": [
    "m0 = 0.9382720813e9 # proton rest mass, [eV/c^2] \n",
    "clight = 299792458 # speed of light [m/s]"
   ]
  },
  {
   "cell_type": "markdown",
   "metadata": {},
   "source": [
    "#### Parameters of the reference particle"
   ]
  },
  {
   "cell_type": "code",
   "execution_count": 13,
   "metadata": {},
   "outputs": [],
   "source": [
    "E_rest = m0 # eV\n",
    "E_0 = 26e9 # total energy of the reference particle [eV]\n",
    "PC_0 = np.sqrt(E_0**2-E_rest**2)  # reference momentum times the speed of ligth --> [eV]\n",
    "gamma_0 =  E_0/E_rest # gamma realtivistic of the reference particle  # crosscheckd with mad\n",
    "beta_0 = np.sqrt(1-1/gamma_0**2) # beta realtivistic of the reference particle"
   ]
  },
  {
   "cell_type": "markdown",
   "metadata": {},
   "source": [
    "#### Crab cavity parameters"
   ]
  },
  {
   "cell_type": "code",
   "execution_count": 14,
   "metadata": {},
   "outputs": [],
   "source": [
    "V_CC = 3e6 # V\n",
    "f_CC = 400e6 # Hz\n",
    "ps = 90. # phase of the cavity"
   ]
  },
  {
   "cell_type": "markdown",
   "metadata": {},
   "source": [
    "#### Create a longitudinal distribution\n",
    "- Just evenly spaced values within a given integral\n",
    "- The limits are choosen similar to the gaussian initial distributions from /afs/cern.ch/work/n/natriant/private/pysixtrack_example_crabcavity/input/initial_distribution_wrt_CO.pkl. The choice can be arbtitrary. "
   ]
  },
  {
   "cell_type": "code",
   "execution_count": 15,
   "metadata": {},
   "outputs": [],
   "source": [
    "n_particles = 1000.\n",
    "start, stop = -0.6, 0.6\n",
    "step = (stop-start)/n_particles\n",
    "initial_sigmas = np.arange(start, stop, step)"
   ]
  },
  {
   "cell_type": "code",
   "execution_count": 16,
   "metadata": {},
   "outputs": [],
   "source": [
    "start, stop = -1e4, 1e4\n",
    "step = (stop-start)/n_particles\n",
    "initial_deltas = np.arange(start, stop, step)"
   ]
  },
  {
   "cell_type": "markdown",
   "metadata": {},
   "source": [
    "#### 1) Calculate $\\tau$ for the RFMultipole kick"
   ]
  },
  {
   "cell_type": "code",
   "execution_count": 17,
   "metadata": {},
   "outputs": [],
   "source": [
    "tau_list = []  # [m] for the RFMulitpole\n",
    "z_list = [] # [m] for the CC\n",
    "for particle in range(0, len(initial_sigmas)):\n",
    "    PC = (1 + initial_deltas[particle]) * PC_0 # momentum times the speed of light --> [eV]\n",
    "    gamma = np.sqrt(1+(PC/m0)**2)\n",
    "    beta = np.sqrt(1-1/gamma**2)    \n",
    "    rvv = beta/beta_0\n",
    "    \n",
    "    # RF energy kick \n",
    "    z = initial_sigmas[particle]/ rvv\n",
    "    z_list.append(z)\n",
    "    tau = z / rvv / beta_0\n",
    "    tau_list.append(tau)"
   ]
  },
  {
   "cell_type": "markdown",
   "metadata": {},
   "source": [
    "#### Estimate the transverse kick from the RFMultiple (skew dipole)"
   ]
  },
  {
   "cell_type": "code",
   "execution_count": 18,
   "metadata": {},
   "outputs": [],
   "source": [
    "k = 2 * np.pi * f_CC / clight # wavenumber of the cavity\n",
    "cs = np.cos(ps*np.pi/180 - k* np.array(tau_list))\n",
    "ksl = V_CC/PC_0 \n",
    "Delta_py = cs * ksl "
   ]
  },
  {
   "cell_type": "markdown",
   "metadata": {},
   "source": [
    "#### Estimate the induced closed orbit"
   ]
  },
  {
   "cell_type": "code",
   "execution_count": 19,
   "metadata": {},
   "outputs": [],
   "source": [
    "beta_y = 27.46384921 # start of the lattice\n",
    "beta_y_CC1 =  76.07315729 # CC1\n",
    "Qy = 26.18\n",
    "muy = + 4.05373914#3.134818627 # maybe 20.25- 3.."
   ]
  },
  {
   "cell_type": "code",
   "execution_count": 20,
   "metadata": {},
   "outputs": [],
   "source": [
    "y_co_RF = (np.sqrt(beta_y*beta_y_CC1)) * np.array(Delta_py)*np.cos(muy*2*np.pi - np.pi*Qy) / (2*np.sin(np.pi*Qy)) "
   ]
  },
  {
   "cell_type": "markdown",
   "metadata": {},
   "source": [
    "#### 2) Standard CC"
   ]
  },
  {
   "cell_type": "code",
   "execution_count": 21,
   "metadata": {},
   "outputs": [],
   "source": [
    "delta_py_CC = V_CC * np.sin(ps + k * np.array(z_list))/E_0"
   ]
  },
  {
   "cell_type": "code",
   "execution_count": 22,
   "metadata": {},
   "outputs": [],
   "source": [
    "y_co_CC = (np.sqrt(beta_y*beta_y_CC1)) * np.array(delta_py_CC)*np.cos(2*np.pi*muy - np.pi*Qy)/ (2*np.sin(np.pi*Qy)) "
   ]
  },
  {
   "cell_type": "markdown",
   "metadata": {},
   "source": [
    "### Compare the induced closed orbit from the standard CC vs RF Multipole"
   ]
  },
  {
   "cell_type": "code",
   "execution_count": 26,
   "metadata": {},
   "outputs": [
    {
     "data": {
      "image/png": "[encoded data removed]",
      "text/plain": [
       "<Figure size 900x756 with 1 Axes>"
      ]
     },
     "metadata": {
      "needs_background": "light"
     },
     "output_type": "display_data"
    }
   ],
   "source": [
    "plt.scatter(initial_sigmas, y_co_RF*1e3, label = 'RF multipole')\n",
    "plt.scatter(initial_sigmas, y_co_CC*1e3, label = 'standard CC')\n",
    "plt.xlabel('initial sigma [m]')\n",
    "plt.ylabel(r'$y_{co}(s)$ [mm] ')\n",
    "plt.grid()\n",
    "plt.legend()\n",
    "plt.tight_layout()\n",
    "#plt.savefig('RFmultipole_vs_CC_Vcc{:.2f}MV_fcc{:.2f}MHz_ps{:.2f}_E{:.2f}GeV_100particles.png'.format(V_CC/1e6, f_CC/1e6, ps, E_0/1e9))"
   ]
  },
  {
   "cell_type": "markdown",
   "metadata": {},
   "source": [
    "### Conclusion 1 : In the definition of the RF Multipole the phase of the cavity is shifted by 90 degrees compared to the standard crab cavity."
   ]
  },
  {
   "cell_type": "markdown",
   "metadata": {},
   "source": [
    "### Conclusion 2 : For the comparison with the simulation data we can use either of the kicks. Standard CC is more simple."
   ]
  },
  {
   "cell_type": "code",
   "execution_count": null,
   "metadata": {},
   "outputs": [],
   "source": []
  },
  {
   "cell_type": "code",
   "execution_count": null,
   "metadata": {},
   "outputs": [],
   "source": []
  },
  {
   "cell_type": "code",
   "execution_count": null,
   "metadata": {},
   "outputs": [],
   "source": []
  },
  {
   "cell_type": "code",
   "execution_count": null,
   "metadata": {},
   "outputs": [],
   "source": []
  },
  {
   "cell_type": "code",
   "execution_count": null,
   "metadata": {},
   "outputs": [],
   "source": []
  },
  {
   "cell_type": "code",
   "execution_count": null,
   "metadata": {},
   "outputs": [],
   "source": []
  },
  {
   "cell_type": "code",
   "execution_count": null,
   "metadata": {},
   "outputs": [],
   "source": []
  },
  {
   "cell_type": "code",
   "execution_count": null,
   "metadata": {},
   "outputs": [],
   "source": []
  },
  {
   "cell_type": "code",
   "execution_count": null,
   "metadata": {},
   "outputs": [],
   "source": []
  },
  {
   "cell_type": "code",
   "execution_count": null,
   "metadata": {},
   "outputs": [],
   "source": []
  }
 ],
 "metadata": {
  "kernelspec": {
   "display_name": "Python 3",
   "language": "python",
   "name": "python3"
  },
  "language_info": {
   "codemirror_mode": {
    "name": "ipython",
    "version": 3
   },
   "file_extension": ".py",
   "mimetype": "text/x-python",
   "name": "python",
   "nbconvert_exporter": "python",
   "pygments_lexer": "ipython3",
   "version": "3.7.1"
  }
 },
 "nbformat": 4,
 "nbformat_minor": 4
}
